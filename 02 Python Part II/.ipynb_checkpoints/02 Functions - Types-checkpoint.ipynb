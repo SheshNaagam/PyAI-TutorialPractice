{
 "cells": [
  {
   "cell_type": "markdown",
   "id": "559f51cf",
   "metadata": {},
   "source": [
    "## TYPES OF FUNCTIONS\n",
    "\n",
    "#### In Built Functions\n",
    "\n",
    "Example: print(), str(), dict(), set(), list()\n",
    "\n",
    "#### User-Defined Functions\n",
    "\n",
    "Functions made by user in program, using def function_name(): Syntax\n"
   ]
  },
  {
   "cell_type": "code",
   "execution_count": 8,
   "id": "a5454672",
   "metadata": {},
   "outputs": [
    {
     "name": "stdout",
     "output_type": "stream",
     "text": [
      "\n",
      " 989\n",
      "\n",
      " False\n",
      "\n",
      " ['__add__', '__class__', '__class_getitem__', '__contains__', '__delattr__', '__delitem__', '__dir__', '__doc__', '__eq__', '__format__', '__ge__', '__getattribute__', '__getitem__', '__gt__', '__hash__', '__iadd__', '__imul__', '__init__', '__init_subclass__', '__iter__', '__le__', '__len__', '__lt__', '__mul__', '__ne__', '__new__', '__reduce__', '__reduce_ex__', '__repr__', '__reversed__', '__rmul__', '__setattr__', '__setitem__', '__sizeof__', '__str__', '__subclasshook__', 'append', 'clear', 'copy', 'count', 'extend', 'index', 'insert', 'pop', 'remove', 'reverse', 'sort']\n",
      "\n",
      " (10, 0)\n"
     ]
    }
   ],
   "source": [
    "# Some In-Built Functions\n",
    "\n",
    "# abs()\n",
    "print(\"\\n\", abs(-989))  # Prints Absolute Number, makes positive to negetive\n",
    "\n",
    "# all()\n",
    "print(\"\\n\", all(listA:=[0,1,2,3,4,5]))  # Prints True if All Elements are true, False if any Element is False.\n",
    "\n",
    "# dir()\n",
    "print(\"\\n\", dir(listA := [])) # Prints a list of All possible Functions, and attributes that can be applied on given listA\n",
    "\n",
    "# divmod()\n",
    "print(\"\\n\", divmod(20,2))  # Prints a Tuple That includes Quotient and Remainder of Division of 2 Numbers 20 and 2\n",
    "\n",
    "# isinstance(variable, datatype)\n",
    "print(isinstance(listA := [1,2,3], list)) # Is instance a List? True or False"
   ]
  },
  {
   "cell_type": "code",
   "execution_count": 9,
   "id": "db8779c5",
   "metadata": {},
   "outputs": [
    {
     "name": "stdout",
     "output_type": "stream",
     "text": [
      "\n",
      " Counter: 0 Value: Satish\n",
      "\n",
      " Counter: 1 Value: Rohan\n",
      "\n",
      " Counter: 2 Value: Harish\n",
      "\n",
      " Counter: 3 Value: Mirch\n",
      "\n",
      " Counter: 4 Value: Chand\n",
      "\n",
      "\n",
      "\n",
      " Counter: 4 Value: Satish\n",
      "\n",
      "\n",
      "\n",
      " Counter: 5 Value: Rohan\n",
      "\n",
      "\n",
      "\n",
      " Counter: 6 Value: Harish\n",
      "\n",
      "\n",
      "\n",
      " Counter: 7 Value: Mirch\n",
      "\n",
      "\n",
      "\n",
      " Counter: 8 Value: Chand\n"
     ]
    }
   ],
   "source": [
    "\n",
    "# enumerate()\n",
    "for i,j in enumerate(listA := ['Satish', 'Rohan', 'Harish', 'Mirch', 'Chand']): print(f\"\\n Counter: {i} Value: {j}\")\n",
    "# enumerate() returns i as counter and j as element value\n",
    "\n",
    "# enumerate(iterator, Counter) # Start enum with custom starting Counter\n",
    "for i,j in enumerate(listA, 4): print(f\"\\n\\n\\n Counter: {i} Value: {j}\")"
   ]
  },
  {
   "cell_type": "code",
   "execution_count": 20,
   "id": "b82e0729",
   "metadata": {},
   "outputs": [
    {
     "name": "stdout",
     "output_type": "stream",
     "text": [
      "['a', 'e', 'i']\n"
     ]
    }
   ],
   "source": [
    "# filter(function, sequence) # Returns a list of elements in sequence after filtering with function\n",
    "\n",
    "def vowelfun(sequence):\n",
    "    vowels = ['a','e','i','o','u']\n",
    "    \n",
    "    return [j for j in sequence if j in vowels] # List Compr for Returning only vowels from Sequence given.\n",
    "\n",
    "filtered = filter(vowelfun, listASequence := ['a','b','c','d','e','f','g','h','i','j','k','l',]) # Function Call\n",
    "print(list(filtered))"
   ]
  },
  {
   "cell_type": "code",
   "execution_count": null,
   "id": "c448b719",
   "metadata": {},
   "outputs": [],
   "source": []
  }
 ],
 "metadata": {
  "kernelspec": {
   "display_name": "Python 3 (ipykernel)",
   "language": "python",
   "name": "python3"
  },
  "language_info": {
   "codemirror_mode": {
    "name": "ipython",
    "version": 3
   },
   "file_extension": ".py",
   "mimetype": "text/x-python",
   "name": "python",
   "nbconvert_exporter": "python",
   "pygments_lexer": "ipython3",
   "version": "3.10.6"
  }
 },
 "nbformat": 4,
 "nbformat_minor": 5
}
