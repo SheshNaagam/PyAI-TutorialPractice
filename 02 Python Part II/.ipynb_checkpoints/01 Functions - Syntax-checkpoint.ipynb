{
 "cells": [
  {
   "cell_type": "markdown",
   "id": "45c0e3a7",
   "metadata": {},
   "source": [
    "## Python Functions [Re-Usable Code]\n",
    "\n",
    "#### Syntax\n",
    "\n",
    "def function_name(arguments):\n",
    "\n",
    "    \"\"\"\n",
    "    Doc String # Doc string are documentation information about the function\n",
    "    \"\"\"\n",
    "    \n",
    "    code\n",
    "    code\n",
    "    code\n",
    "    return value (optional)\n",
    "\n",
    "function_name(custom_argument) # Function call"
   ]
  },
  {
   "cell_type": "code",
   "execution_count": 1,
   "id": "94994726",
   "metadata": {},
   "outputs": [
    {
     "name": "stdout",
     "output_type": "stream",
     "text": [
      "Tanmay\n",
      "HELLO  Tanmay\n"
     ]
    }
   ],
   "source": [
    "def print_name(any_variable):\n",
    "    \"\"\"\n",
    "    THIS FUNCTION PRINTS HELLO <NAME>\n",
    "    \"\"\"\n",
    "    \n",
    "    print(\"HELLO \", any_variable)\n",
    "\n",
    "print_name(input())"
   ]
  },
  {
   "cell_type": "code",
   "execution_count": 2,
   "id": "c581c9cc",
   "metadata": {},
   "outputs": [
    {
     "name": "stdout",
     "output_type": "stream",
     "text": [
      "\n",
      "    THIS FUNCTION PRINTS HELLO <NAME>\n",
      "    \n"
     ]
    }
   ],
   "source": [
    "# Doctstring print for any function in program\n",
    "\n",
    "print(print_name.__doc__) # Function name: print_name; docstring call: __doc__"
   ]
  },
  {
   "cell_type": "code",
   "execution_count": 4,
   "id": "4d36448a",
   "metadata": {},
   "outputs": [
    {
     "data": {
      "text/plain": [
       "1000"
      ]
     },
     "execution_count": 4,
     "metadata": {},
     "output_type": "execute_result"
    }
   ],
   "source": [
    "# Variable Scope in Function\n",
    "\n",
    "def cubed(num):\n",
    "    square = num**2      # LOCAL SCOPE, CANNOT ACCESS OUTSIDE FUNCTION\n",
    "    return square*num\n",
    "\n",
    "cubed(10)\n",
    "# print(square)            # ERROR LOCAL SCOPE"
   ]
  },
  {
   "cell_type": "code",
   "execution_count": 6,
   "id": "7419d457",
   "metadata": {},
   "outputs": [
    {
     "name": "stdout",
     "output_type": "stream",
     "text": [
      "12\n",
      "14\n",
      "2\n"
     ]
    }
   ],
   "source": [
    "# Sample Function Program: Finding Common HCF of 2 Numbers \n",
    "# HCF = HIGHEST COMMON FACTOR. THE HIGHEST NUMBER THAT CAN DIVIDE BOTH NUMBERS\n",
    "\n",
    "def HCF_Finder(Num1, Num2):\n",
    "    i = Num1 if Num1 < Num2 else Num2  # i = smallest Number out of two\n",
    "    \n",
    "    \n",
    "    for num in range (1, i+1):#           # Loop from 1 to smallest number\n",
    "        \n",
    "        if Num1 % num == 0 and Num2 % num == 0:\n",
    "            HCF = num\n",
    "            \n",
    "    return HCF\n",
    "\n",
    "\n",
    "print(HCF_Finder(int(input()), int(input()))) # Function Call\n"
   ]
  },
  {
   "cell_type": "code",
   "execution_count": null,
   "id": "d7d22be3",
   "metadata": {},
   "outputs": [],
   "source": []
  }
 ],
 "metadata": {
  "kernelspec": {
   "display_name": "Python 3 (ipykernel)",
   "language": "python",
   "name": "python3"
  },
  "language_info": {
   "codemirror_mode": {
    "name": "ipython",
    "version": 3
   },
   "file_extension": ".py",
   "mimetype": "text/x-python",
   "name": "python",
   "nbconvert_exporter": "python",
   "pygments_lexer": "ipython3",
   "version": "3.10.6"
  }
 },
 "nbformat": 4,
 "nbformat_minor": 5
}
