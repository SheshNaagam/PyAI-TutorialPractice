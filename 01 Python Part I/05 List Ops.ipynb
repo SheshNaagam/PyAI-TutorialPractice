{
 "cells": [
  {
   "cell_type": "code",
   "execution_count": 1,
   "id": "22abbe52",
   "metadata": {},
   "outputs": [
    {
     "name": "stdout",
     "output_type": "stream",
     "text": [
      "Enter Limit of List: 5\n",
      "Enter String: a\n",
      "Enter String: b\n",
      "Enter String: v\n",
      "Enter String: c\n",
      "Enter String: d\n",
      "Enter String: e\n",
      "['a', 'b', 'v', 'c', 'd', 'e'] \n",
      "\n",
      "\n",
      "Enter String to Remove from List: e\n",
      "['a', 'b', 'v', 'c', 'd'] \n",
      "\n",
      "\n",
      "Enter String To Add in List: e\n",
      "Enter The Index at Which String Should Be Added: 5\n",
      "['a', 'b', 'v', 'c', 'd', 'e'] \n",
      "\n",
      "\n",
      "Enter Next Alphabet: f\n",
      "Enter Next Alphabet: g\n",
      "Enter Next Alphabet: h\n",
      "Enter Next Alphabet: j\n",
      "Enter Next Alphabet: exit\n",
      "\n",
      "\n",
      " ['a', 'b', 'v', 'c', 'd', 'e', 'f', 'g', 'h', 'j'] \n",
      "\n",
      "\n"
     ]
    },
    {
     "ename": "IndexError",
     "evalue": "list index out of range",
     "output_type": "error",
     "traceback": [
      "\u001b[0;31m---------------------------------------------------------------------------\u001b[0m",
      "\u001b[0;31mIndexError\u001b[0m                                Traceback (most recent call last)",
      "\u001b[0;32m/tmp/ipykernel_349652/3896535901.py\u001b[0m in \u001b[0;36m<module>\u001b[0;34m\u001b[0m\n\u001b[1;32m     34\u001b[0m \u001b[0;34m\u001b[0m\u001b[0m\n\u001b[1;32m     35\u001b[0m \u001b[0;32mfor\u001b[0m \u001b[0mi\u001b[0m \u001b[0;32min\u001b[0m \u001b[0mrange\u001b[0m\u001b[0;34m(\u001b[0m\u001b[0mlen\u001b[0m\u001b[0;34m(\u001b[0m\u001b[0mlistA\u001b[0m\u001b[0;34m)\u001b[0m\u001b[0;34m)\u001b[0m\u001b[0;34m:\u001b[0m\u001b[0;34m\u001b[0m\u001b[0;34m\u001b[0m\u001b[0m\n\u001b[0;32m---> 36\u001b[0;31m     \u001b[0;32mif\u001b[0m \u001b[0mlistA\u001b[0m\u001b[0;34m[\u001b[0m\u001b[0mi\u001b[0m\u001b[0;34m]\u001b[0m \u001b[0;32min\u001b[0m \u001b[0mvowel\u001b[0m\u001b[0;34m:\u001b[0m\u001b[0;34m\u001b[0m\u001b[0;34m\u001b[0m\u001b[0m\n\u001b[0m\u001b[1;32m     37\u001b[0m         \u001b[0;32mdel\u001b[0m \u001b[0mlistA\u001b[0m\u001b[0;34m[\u001b[0m\u001b[0mi\u001b[0m\u001b[0;34m]\u001b[0m \u001b[0;31m# Delete Item with Index Reference\u001b[0m\u001b[0;34m\u001b[0m\u001b[0;34m\u001b[0m\u001b[0m\n\u001b[1;32m     38\u001b[0m     \u001b[0mi\u001b[0m \u001b[0;34m-=\u001b[0m \u001b[0;36m1\u001b[0m \u001b[0;31m# reduce iteration as index changed\u001b[0m\u001b[0;34m\u001b[0m\u001b[0;34m\u001b[0m\u001b[0m\n",
      "\u001b[0;31mIndexError\u001b[0m: list index out of range"
     ]
    }
   ],
   "source": [
    "listA = []\n",
    "\n",
    "limit = int(input(\"Enter Limit of List: \"))\n",
    "\n",
    "for i in range (limit+1):\n",
    "    listA.append(input(\"Enter String: \")) # List Append at End\n",
    "\n",
    "print(listA, \"\\n\\n\")\n",
    "\n",
    "remover = input(\"Enter String to Remove from List: \")\n",
    "listA.remove(remover) # Remove Item's First Occurance ONLY From List.\n",
    "\n",
    "print(listA, \"\\n\\n\")\n",
    "\n",
    "adder = input(\"Enter String To Add in List: \")\n",
    "adderindex = int(input(\"Enter The Index at Which String Should Be Added: \"))\n",
    "\n",
    "listA.insert(adderindex, adder) # Insert Item At Specific Index\n",
    "\n",
    "print(listA, \"\\n\\n\")\n",
    "\n",
    "listB = []\n",
    "i = 0\n",
    "while True:\n",
    "    i = input(\"Enter Next Alphabet: \")\n",
    "    if i == \"exit\":\n",
    "        break\n",
    "    listB.append(i)\n",
    "\n",
    "listA.extend(listB) # Add Another List Elements\n",
    "print(\"\\n\\n\", listA, \"\\n\\n\")\n",
    "\n",
    "vowel = ['a','e','i','o','u']\n",
    "\n",
    "for i in range(len(listA)):\n",
    "    if listA[i] in vowel:\n",
    "        del listA[i] # Delete Item with Index Reference\n",
    "    i -= 1 # reduce iteration as index changed\n",
    "print(\"Consonants: \")\n",
    "while listA: listA.pop(); vowel.pop()"
   ]
  },
  {
   "cell_type": "code",
   "execution_count": 6,
   "id": "11c9d071",
   "metadata": {},
   "outputs": [
    {
     "data": {
      "text/plain": [
       "[7, 4, 6, 8, 9, 5, 3, 2, 1]"
      ]
     },
     "execution_count": 6,
     "metadata": {},
     "output_type": "execute_result"
    }
   ],
   "source": [
    "# List Functions\n",
    "listA.reverse()\n",
    "listA"
   ]
  },
  {
   "cell_type": "code",
   "execution_count": 11,
   "id": "212590c6",
   "metadata": {},
   "outputs": [
    {
     "name": "stdout",
     "output_type": "stream",
     "text": [
      "Original List =>  [11, 5, 3, 2, 6.4, 8]\n",
      "Sorted =>  [2, 3, 5, 6.4, 8, 11]\n",
      "Reverse Sort (DESC) =>  [11, 8, 6.4, 5, 3, 2]\n",
      "[11, 5, 3, 2, 6.4, 8]\n"
     ]
    }
   ],
   "source": [
    "# List sorting with sorted()\n",
    "\n",
    "print(\"Original List => \", listA)\n",
    "print(\"Sorted => \", sorted(listA)) # OUTPUT = Sorted List\n",
    "print(\"Reverse Sort (DESC) => \", sorted(listA, reverse = True)) # Descending Order\n",
    "print(listA) # List UNCHANGED"
   ]
  },
  {
   "cell_type": "code",
   "execution_count": 13,
   "id": "72d0f1e6",
   "metadata": {},
   "outputs": [
    {
     "name": "stdout",
     "output_type": "stream",
     "text": [
      "Original List:  [11, 5, 3, 2, 6.4, 8]\n",
      "Sorted list:  None\n",
      "[2, 3, 5, 6.4, 8, 11]\n"
     ]
    }
   ],
   "source": [
    "# List sorting with sort()\n",
    "\n",
    "listA = [11,5,3,2,6.4,8]\n",
    "print(\"Original List: \", listA)\n",
    "print(\"Sorted list: \", listA.sort()) # No Output as it just Changes ListA\n",
    "print(listA) # List CHANGED"
   ]
  },
  {
   "cell_type": "code",
   "execution_count": 38,
   "id": "1be187af",
   "metadata": {},
   "outputs": [
    {
     "name": "stdout",
     "output_type": "stream",
     "text": [
      "['1', '2', '3', '4', '5', '6', '7', '8', '9']\n"
     ]
    }
   ],
   "source": [
    "# Splitting with Delimeter into list\n",
    "\n",
    "stringl = \"1,2,3,4,5,6,7,8,9\"\n",
    "listA = stringl.split(',')\n",
    "print(listA)"
   ]
  },
  {
   "cell_type": "code",
   "execution_count": 39,
   "id": "8a32892c",
   "metadata": {},
   "outputs": [
    {
     "name": "stdout",
     "output_type": "stream",
     "text": [
      "['1', '2', '3', '4', '5', '6', '7', '8', '9']\n",
      "['1', '2', '3', '4', '5', '6', '7', '8']\n",
      "['1', '3', '5', '7']\n",
      "['9', '8', '7', '6', '5', '4', '3', '2']\n"
     ]
    }
   ],
   "source": [
    "# Slice Ops\n",
    "\n",
    "print(listA[:]) # all\n",
    "print(listA[0:8]) # from index 0 to 8\n",
    "print(listA[0:8:2]) # from index 0 to 8 with step size 2, move 2 steps forward after 1 index printed\n",
    "print(listA[-1:0:-1]) # -1 = last index, -2 = second last index, -1 step size prints in reverse order until index 0"
   ]
  },
  {
   "cell_type": "code",
   "execution_count": 40,
   "id": "4bb1ab19",
   "metadata": {},
   "outputs": [
    {
     "name": "stdout",
     "output_type": "stream",
     "text": [
      "['1', '2', '3', '4', '5', '6', '7', '8', '9', 'fire', 'water', 'air', 'earth', 'space']\n"
     ]
    }
   ],
   "source": [
    "# list extension with '+' without extend()\n",
    "\n",
    "listB = ['fire', 'water', 'air', 'earth', 'space']\n",
    "print(listA + listB) # Extended list A with list B, does not change list"
   ]
  },
  {
   "cell_type": "code",
   "execution_count": 41,
   "id": "e90cc3b3",
   "metadata": {},
   "outputs": [
    {
     "name": "stdout",
     "output_type": "stream",
     "text": [
      "['1', '2', '3', '4', '5', '6', '7', '8', '9']\n",
      "0\n",
      "['1', '2', '3', '4', '5', '6', '7', '8', '9', 'fire'] Count :  1\n"
     ]
    }
   ],
   "source": [
    "# Counting Item's Occurance Frequency\n",
    "print(listA)\n",
    "print(listA.count('fire'))\n",
    "listA.append(\"fire\")\n",
    "print(listA, \"Count : \", listA.count(\"fire\"))"
   ]
  },
  {
   "cell_type": "code",
   "execution_count": 42,
   "id": "cf51685b",
   "metadata": {},
   "outputs": [
    {
     "name": "stdout",
     "output_type": "stream",
     "text": [
      "1\n",
      "2\n",
      "3\n",
      "4\n",
      "5\n",
      "6\n",
      "7\n",
      "8\n",
      "9\n",
      "fire\n"
     ]
    }
   ],
   "source": [
    "# Looping through List\n",
    "\n",
    "for element in listA: # element is a variable which stores an item from listA in every loop where index increments.\n",
    "    print(element)"
   ]
  },
  {
   "cell_type": "code",
   "execution_count": 47,
   "id": "ad387d0e",
   "metadata": {},
   "outputs": [
    {
     "ename": "SyntaxError",
     "evalue": "expected ':' (372990222.py, line 5)",
     "output_type": "error",
     "traceback": [
      "\u001b[0;36m  File \u001b[0;32m\"/tmp/ipykernel_349652/372990222.py\"\u001b[0;36m, line \u001b[0;32m5\u001b[0m\n\u001b[0;31m    if i == 'fire'\u001b[0m\n\u001b[0m                  ^\u001b[0m\n\u001b[0;31mSyntaxError\u001b[0m\u001b[0;31m:\u001b[0m expected ':'\n"
     ]
    }
   ],
   "source": [
    "# without list comprehension\n",
    "\n",
    "fire = []\n",
    "for i in listA:\n",
    "    if i == 'fire'\n",
    "        fire.append(i)\n",
    "print(fire)\n",
    "\n",
    "fire = [] # list reset for next operation\n",
    "\n",
    "## with list comprehension\n",
    "\n",
    "fire = [i for i in listA if i == 'fire']\n",
    "print fire"
   ]
  },
  {
   "cell_type": "code",
   "execution_count": null,
   "id": "f6c95524",
   "metadata": {},
   "outputs": [],
   "source": [
    "# Nested List comprehension\n",
    "\n",
    "listA = [[1,2,3,4],[5,6,7,8],[9,10,11,12],[13,14,15,16]]\n",
    "listATranspose = [[element[]for element in i]for i in range(4)]"
   ]
  }
 ],
 "metadata": {
  "kernelspec": {
   "display_name": "Python 3 (ipykernel)",
   "language": "python",
   "name": "python3"
  },
  "language_info": {
   "codemirror_mode": {
    "name": "ipython",
    "version": 3
   },
   "file_extension": ".py",
   "mimetype": "text/x-python",
   "name": "python",
   "nbconvert_exporter": "python",
   "pygments_lexer": "ipython3",
   "version": "3.10.5"
  }
 },
 "nbformat": 4,
 "nbformat_minor": 5
}
