{
 "cells": [
  {
   "cell_type": "code",
   "execution_count": 3,
   "id": "5b9d896f",
   "metadata": {},
   "outputs": [
    {
     "name": "stdout",
     "output_type": "stream",
     "text": [
      "There are 20 Girls and 45 Boys in the Class.\n"
     ]
    }
   ],
   "source": [
    "#Output Formatting\n",
    "a = 20; b = 45;\n",
    "print(\"There are \" + str(a) + \" Girls and \" + str(b) + \" Boys in the Class.\")"
   ]
  },
  {
   "cell_type": "code",
   "execution_count": 4,
   "id": "5e69000a",
   "metadata": {},
   "outputs": [
    {
     "name": "stdout",
     "output_type": "stream",
     "text": [
      "There are 20 Girls and 45 Boys in the Class.\n"
     ]
    }
   ],
   "source": [
    "print(\"There are {} Girls and {} Boys in the Class.\".format(a, b))"
   ]
  },
  {
   "cell_type": "code",
   "execution_count": 5,
   "id": "1f09d299",
   "metadata": {},
   "outputs": [
    {
     "name": "stdout",
     "output_type": "stream",
     "text": [
      "There are 20 Girls and 45 Boys in the Class.\n"
     ]
    }
   ],
   "source": [
    "print(\"There are {1} Girls and {0} Boys in the Class.\".format(b, a))"
   ]
  },
  {
   "cell_type": "code",
   "execution_count": 6,
   "id": "4531ae62",
   "metadata": {},
   "outputs": [
    {
     "name": "stdout",
     "output_type": "stream",
     "text": [
      "There are 20 Girls and 45 Boys in the Class.\n"
     ]
    }
   ],
   "source": [
    "print(\"There are {girls} Girls and {boys} Boys in the Class.\".format(boys=b, girls=a))"
   ]
  },
  {
   "cell_type": "code",
   "execution_count": 8,
   "id": "5ba4b511",
   "metadata": {},
   "outputs": [
    {
     "name": "stdout",
     "output_type": "stream",
     "text": [
      "There are 20 Girls and 45 Boys in the Class.\n"
     ]
    }
   ],
   "source": [
    "print(\"There are {0} Girls and {boys} Boys in the Class.\".format(a, boys=b)) #Combination"
   ]
  },
  {
   "cell_type": "code",
   "execution_count": 9,
   "id": "9f4a406f",
   "metadata": {},
   "outputs": [
    {
     "name": "stdout",
     "output_type": "stream",
     "text": [
      "There are 20 Girls and 45 Boys in the Class.\n"
     ]
    }
   ],
   "source": [
    "print(f\"There are {a} Girls and {b} Boys in the Class.\")"
   ]
  },
  {
   "cell_type": "code",
   "execution_count": 10,
   "id": "4fd5d93a",
   "metadata": {},
   "outputs": [
    {
     "name": "stdout",
     "output_type": "stream",
     "text": [
      "Enter First Number: 22\n",
      "Enter Second Number: 34\n",
      "56\n"
     ]
    }
   ],
   "source": [
    "#Input\n",
    "str1 = input(\"Enter First Number: \")\n",
    "str2 = input(\"Enter Second Number: \")\n",
    "added= int(str1) + int(str2)\n",
    "print(added)"
   ]
  },
  {
   "cell_type": "code",
   "execution_count": 11,
   "id": "2d144ef3",
   "metadata": {},
   "outputs": [
    {
     "name": "stdout",
     "output_type": "stream",
     "text": [
      "Enter First Number: 44\n",
      "Enter Second Number: 55\n",
      "99\n"
     ]
    }
   ],
   "source": [
    "num1 = int(input(\"Enter First Number: \"))\n",
    "num2 = int(input(\"Enter Second Number: \"))\n",
    "print(num1 + num2)"
   ]
  }
 ],
 "metadata": {
  "kernelspec": {
   "display_name": "Python 3 (ipykernel)",
   "language": "python",
   "name": "python3"
  },
  "language_info": {
   "codemirror_mode": {
    "name": "ipython",
    "version": 3
   },
   "file_extension": ".py",
   "mimetype": "text/x-python",
   "name": "python",
   "nbconvert_exporter": "python",
   "pygments_lexer": "ipython3",
   "version": "3.10.5"
  }
 },
 "nbformat": 4,
 "nbformat_minor": 5
}
