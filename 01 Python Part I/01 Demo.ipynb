{
 "cells": [
  {
   "cell_type": "code",
   "execution_count": 1,
   "id": "59a245cd",
   "metadata": {},
   "outputs": [
    {
     "name": "stdout",
     "output_type": "stream",
     "text": [
      "Hello World\n"
     ]
    }
   ],
   "source": [
    "print(\"Hello World\")"
   ]
  },
  {
   "cell_type": "code",
   "execution_count": 2,
   "id": "56a48356",
   "metadata": {},
   "outputs": [
    {
     "name": "stdout",
     "output_type": "stream",
     "text": [
      "['False', 'None', 'True', 'and', 'as', 'assert', 'async', 'await', 'break', 'class', 'continue', 'def', 'del', 'elif', 'else', 'except', 'finally', 'for', 'from', 'global', 'if', 'import', 'in', 'is', 'lambda', 'nonlocal', 'not', 'or', 'pass', 'raise', 'return', 'try', 'while', 'with', 'yield']\n"
     ]
    }
   ],
   "source": [
    "import keyword\n",
    "print(keyword.kwlist)"
   ]
  },
  {
   "cell_type": "code",
   "execution_count": 3,
   "id": "c9a5cb11",
   "metadata": {},
   "outputs": [
    {
     "name": "stdout",
     "output_type": "stream",
     "text": [
      "35\n"
     ]
    }
   ],
   "source": [
    "print(len(keyword.kwlist))"
   ]
  },
  {
   "cell_type": "code",
   "execution_count": 4,
   "id": "d3b5fc64",
   "metadata": {},
   "outputs": [],
   "source": [
    "## Identifiers = {a-z, A-Z, 0-9, _} starting  with alphabet or '_' and is not a reserved word."
   ]
  },
  {
   "cell_type": "code",
   "execution_count": 5,
   "id": "c7e30485",
   "metadata": {},
   "outputs": [
    {
     "name": "stdout",
     "output_type": "stream",
     "text": [
      "55\n",
      "23\n",
      "10 20 30\n",
      "20 20 20\n"
     ]
    }
   ],
   "source": [
    "_jabber = 55\n",
    "print(_jabber)\n",
    "\n",
    "jab=23\n",
    "print(jab)\n",
    "\n",
    "a,b,c = 10,20,30 ## Multiple assignment\n",
    "print(a,b,c)\n",
    "\n",
    "a=b=c=20\n",
    "print(a, b, c)"
   ]
  },
  {
   "cell_type": "code",
   "execution_count": 6,
   "id": "cbef075c",
   "metadata": {},
   "outputs": [],
   "source": [
    "## Comment Single Line\n",
    "## Multiline"
   ]
  },
  {
   "cell_type": "code",
   "execution_count": 7,
   "id": "760626ae",
   "metadata": {},
   "outputs": [
    {
     "name": "stdout",
     "output_type": "stream",
     "text": [
      "Yes 1=1\n",
      "Printed Using one-liner\n"
     ]
    }
   ],
   "source": [
    "## One-Liner\n",
    "if 1==1: print(\"Yes 1=1\"); print(\"Printed Using one-liner\")"
   ]
  },
  {
   "cell_type": "code",
   "execution_count": 8,
   "id": "a7142df0",
   "metadata": {},
   "outputs": [
    {
     "name": "stdout",
     "output_type": "stream",
     "text": [
      "126\n",
      "50\n"
     ]
    }
   ],
   "source": [
    "## Multi-line Statement\n",
    "_jabber = 55 + 25 + \\\n",
    "        44 + 2\n",
    "print(_jabber)\n",
    "\n",
    "jab = (10+20+30+40+50-100)\n",
    "print(jab)"
   ]
  },
  {
   "cell_type": "code",
   "execution_count": 9,
   "id": "14cf4136",
   "metadata": {},
   "outputs": [
    {
     "name": "stdout",
     "output_type": "stream",
     "text": [
      "140598209151824\n",
      "140598209151824\n"
     ]
    }
   ],
   "source": [
    "print(id(a)) ## Memory location of variable\n",
    "print(id(b)) ## same values occupied by same variables"
   ]
  },
  {
   "cell_type": "code",
   "execution_count": 10,
   "id": "af87e031",
   "metadata": {},
   "outputs": [
    {
     "name": "stdout",
     "output_type": "stream",
     "text": [
      "<class 'int'>\n",
      "<class 'float'>\n",
      "<class 'complex'>\n"
     ]
    }
   ],
   "source": [
    "print(type(a))\n",
    "print(type(b+2.4))\n",
    "\n",
    "c = a+2j\n",
    "print(type(c))"
   ]
  },
  {
   "cell_type": "code",
   "execution_count": 11,
   "id": "584a96e8",
   "metadata": {},
   "outputs": [
    {
     "name": "stdout",
     "output_type": "stream",
     "text": [
      "Fire\n"
     ]
    }
   ],
   "source": [
    "#String Ops\n",
    "stringA = 'Fire Zoom'\n",
    "print(stringA[0:4])"
   ]
  },
  {
   "cell_type": "code",
   "execution_count": 12,
   "id": "12a09dcd",
   "metadata": {},
   "outputs": [
    {
     "name": "stdout",
     "output_type": "stream",
     "text": [
      "['Fire Zoom', 5, 4.5, 'Fire']\n",
      "['Fire Zoom', 5, 4.5, 'Zoom']\n"
     ]
    }
   ],
   "source": [
    "#List / Arrays\n",
    "listA = [stringA, 5, 4.5, \"Fire\"]\n",
    "print(listA)\n",
    "listA[3] = \"Zoom\" #Mutable\n",
    "print(listA)"
   ]
  },
  {
   "cell_type": "code",
   "execution_count": 13,
   "id": "47accbf6",
   "metadata": {},
   "outputs": [
    {
     "name": "stdout",
     "output_type": "stream",
     "text": [
      "[['Fire Zoom', 5, 4.5, 'Zoom'], 2, 29.33, 'Water']\n"
     ]
    }
   ],
   "source": [
    "#Tuple / Immutable Array\n",
    "tupleA = [listA, 2, 29.33, \"Water\"]\n",
    "print(tupleA)\n",
    "#tupleA[1] = 4 ## ERROR, IMMUTABLE"
   ]
  },
  {
   "cell_type": "code",
   "execution_count": 14,
   "id": "53bfa3b7",
   "metadata": {},
   "outputs": [
    {
     "name": "stdout",
     "output_type": "stream",
     "text": [
      "{50, 'collection'}\n"
     ]
    }
   ],
   "source": [
    "#Sets\n",
    "setA = {50, \"collection\", 'collection', 50.00}\n",
    "print(setA) # No Duplicates Considered\n",
    "##print(setA[1]) ## Error: Unordered Collection of Items"
   ]
  },
  {
   "cell_type": "code",
   "execution_count": 15,
   "id": "54233367",
   "metadata": {},
   "outputs": [
    {
     "name": "stdout",
     "output_type": "stream",
     "text": [
      "['Fire Zoom', 5, 4.5, 'Zoom']\n"
     ]
    }
   ],
   "source": [
    "#Dictionary | Key-value pairs | Hashtable\n",
    "dictA = {'a':\"value01\", 'b':listA, 'c':6.33}\n",
    "print(dictA['b'])"
   ]
  },
  {
   "cell_type": "code",
   "execution_count": 16,
   "id": "3a5d507b",
   "metadata": {},
   "outputs": [
    {
     "name": "stdout",
     "output_type": "stream",
     "text": [
      "29 293.0 44\n",
      "{'Fire Zoom', 'Zoom', 4.5, 5}\n"
     ]
    }
   ],
   "source": [
    "#Typecasting\n",
    "print(int(29.88), float(293), str(44))\n",
    "\n",
    "#Complex Typecasting\n",
    "print(set(listA))"
   ]
  }
 ],
 "metadata": {
  "kernelspec": {
   "display_name": "Python 3 (ipykernel)",
   "language": "python",
   "name": "python3"
  },
  "language_info": {
   "codemirror_mode": {
    "name": "ipython",
    "version": 3
   },
   "file_extension": ".py",
   "mimetype": "text/x-python",
   "name": "python",
   "nbconvert_exporter": "python",
   "pygments_lexer": "ipython3",
   "version": "3.10.5"
  }
 },
 "nbformat": 4,
 "nbformat_minor": 5
}
