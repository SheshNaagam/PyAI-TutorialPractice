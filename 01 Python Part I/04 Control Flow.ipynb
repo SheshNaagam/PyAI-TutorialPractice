{
 "cells": [
  {
   "cell_type": "code",
   "execution_count": 1,
   "id": "6fbb906c",
   "metadata": {},
   "outputs": [
    {
     "name": "stdout",
     "output_type": "stream",
     "text": [
      "Something Wrong!\n"
     ]
    }
   ],
   "source": [
    "# if else\n",
    "\n",
    "a,b = 10,20\n",
    "if a==b:\n",
    "    print(\"A and B are Equal\")\n",
    "else:\n",
    "    print(\"Something Wrong!\")\n"
   ]
  },
  {
   "cell_type": "code",
   "execution_count": 2,
   "id": "ea4956d3",
   "metadata": {},
   "outputs": [
    {
     "name": "stdout",
     "output_type": "stream",
     "text": [
      "Enter Digit: 0\n",
      "The Number is Zero.\n"
     ]
    }
   ],
   "source": [
    "# Nested If else\n",
    "\n",
    "a = int(input(\"Enter Digit: \"))\n",
    "if a > 0:\n",
    "    if a % 2 == 0:\n",
    "        print(\"A is Positive Even Number.\")\n",
    "    elif a % 2 != 0:\n",
    "        print(\"A is Positive Odd Number.\")\n",
    "elif a < 0:\n",
    "    if a % 2 == 0:\n",
    "        print(\"A is Negetive Even Number.\")\n",
    "    elif a % 2 != 0:\n",
    "        print(\"A is Negetive Odd Number.\")\n",
    "else:\n",
    "    print(\"The Number is Zero.\")\n",
    "    \n",
    "# TIP: 0, None, False as input to IF = False, Everything Else = True"
   ]
  },
  {
   "cell_type": "code",
   "execution_count": 28,
   "id": "94972de8",
   "metadata": {
    "scrolled": false
   },
   "outputs": [
    {
     "name": "stdout",
     "output_type": "stream",
     "text": [
      "Enter Limit For Consecutive Addition or Subtraction:0\n",
      "0\n"
     ]
    }
   ],
   "source": [
    "# While Loop\n",
    "\n",
    "a = int(input(\"Enter Limit For Consecutive Addition or Subtraction:\")); counter, b = 0, 0\n",
    "\n",
    "if a > 0:\n",
    "    while(counter <= a):\n",
    "        b += counter\n",
    "        counter += 1\n",
    "elif a < 0:\n",
    "    while(counter >= a):\n",
    "        b += counter\n",
    "        counter += -1\n",
    "        \n",
    "print(b)"
   ]
  },
  {
   "cell_type": "code",
   "execution_count": 5,
   "id": "2e67c120",
   "metadata": {},
   "outputs": [
    {
     "name": "stdout",
     "output_type": "stream",
     "text": [
      "9\n",
      "45\n"
     ]
    }
   ],
   "source": [
    "# While Else\n",
    "\n",
    "counter, b = 0, 0\n",
    "\n",
    "a = [1,2,3,4,5,6,7,8,9]\n",
    "print(len(a))\n",
    "while counter in range(0, len(a)):\n",
    "    b += a[counter]\n",
    "    counter += 1\n",
    "else:\n",
    "    print(b) # runs when while condition == false"
   ]
  },
  {
   "cell_type": "code",
   "execution_count": 16,
   "id": "d2743881",
   "metadata": {},
   "outputs": [
    {
     "name": "stdout",
     "output_type": "stream",
     "text": [
      "Enter a Number: -7\n",
      "Number is PRIME.\n"
     ]
    }
   ],
   "source": [
    "# Practice Program: Prime Number Detection\n",
    "\n",
    "a = int(input(\"Enter a Number: \"))\n",
    "counter = 2\n",
    "divisibility = 0\n",
    "\n",
    "while counter < abs(a):\n",
    "    if a % counter == 0 :\n",
    "        divisibility += 1\n",
    "    counter += 1\n",
    "else:\n",
    "    if divisibility > 0:\n",
    "        print(\"Number is NOT PRIME.\")\n",
    "    else:\n",
    "        print(\"Number is PRIME.\")"
   ]
  },
  {
   "cell_type": "code",
   "execution_count": 63,
   "id": "d67755ce",
   "metadata": {},
   "outputs": [
    {
     "name": "stdout",
     "output_type": "stream",
     "text": [
      "Enter Limit: -20\n",
      "Enter Step: 1\n",
      "\n",
      "Numbers Divisible by 1 in range 0 to -20 are:\n",
      "[]\n"
     ]
    }
   ],
   "source": [
    "# For Loop\n",
    "\n",
    "a =[]\n",
    "limit = int(input(\"Enter Limit: \")); step = int(input(\"Enter Step: \"))\n",
    "\n",
    "for i in range (0, limit+1, step):\n",
    "    a.append(i)\n",
    "print(f\"\\nPositive Numbers Divisible by {step} in range 0 to {limit} are:\"); print(a)"
   ]
  },
  {
   "cell_type": "code",
   "execution_count": 69,
   "id": "af187455",
   "metadata": {},
   "outputs": [
    {
     "name": "stdout",
     "output_type": "stream",
     "text": [
      "Enter Basket A Capacity: 10\n",
      "Enter Basket B Capacity: 7\n",
      "0th Fruit: Banana\n",
      "1th Fruit: Strawberry\n",
      "2th Fruit: Apple\n",
      "3th Fruit: Orange\n",
      "4th Fruit: Banana\n",
      "5th Fruit: Pomegranate\n",
      "6th Fruit: Lichi\n",
      "7th Fruit: Mango\n",
      "8th Fruit: Banana\n",
      "9th Fruit: Grapes\n",
      "10th Fruit: Custard Apple\n",
      "Enter Fruit to Exclude in Second Basket: Orange\n",
      "Excluding Fruit Orange at 3th Index!\n",
      "['Banana', 'Strawberry', 'Apple', 'Orange', 'Banana', 'Pomegranate', 'Lichi', 'Mango', 'Banana', 'Grapes', 'Custard Apple']\n",
      "['Banana', 'Strawberry', 'Apple', 'Banana', 'Pomegranate', 'Lichi', 'Mango']\n"
     ]
    }
   ],
   "source": [
    "# Control Breakers: Break: Exits the Loop Entirely, Continue: Skips to Next Iteration\n",
    "\n",
    "basketA = []\n",
    "basketB = []\n",
    "\n",
    "limitA = int(input(\"Enter Basket A Capacity: \"))\n",
    "limitB = int(input(\"Enter Basket B Capacity: \"))\n",
    "\n",
    "for i in range (limitA+1):\n",
    "    basketA.append(input(f\"{i}th Fruit: \"))\n",
    "\n",
    "exclude = input(\"Enter Fruit to Exclude in Second Basket: \")\n",
    "\n",
    "for i in range (len(basketA)):\n",
    "    if basketA[i] == exclude:\n",
    "        print(f\"Excluding Fruit {basketA[i]} at {i}th Index!\")\n",
    "        continue\n",
    "    basketB.append(basketA[i])\n",
    "    if len(basketB) == limitB:\n",
    "        break\n",
    "print(basketA)\n",
    "print(basketB)"
   ]
  },
  {
   "cell_type": "code",
   "execution_count": null,
   "id": "f4e766c7",
   "metadata": {},
   "outputs": [],
   "source": []
  }
 ],
 "metadata": {
  "kernelspec": {
   "display_name": "Python 3 (ipykernel)",
   "language": "python",
   "name": "python3"
  },
  "language_info": {
   "codemirror_mode": {
    "name": "ipython",
    "version": 3
   },
   "file_extension": ".py",
   "mimetype": "text/x-python",
   "name": "python",
   "nbconvert_exporter": "python",
   "pygments_lexer": "ipython3",
   "version": "3.10.5"
  }
 },
 "nbformat": 4,
 "nbformat_minor": 5
}
