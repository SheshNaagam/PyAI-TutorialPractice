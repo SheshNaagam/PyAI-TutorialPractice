{
 "cells": [
  {
   "cell_type": "code",
   "execution_count": 31,
   "id": "b8b029d6",
   "metadata": {},
   "outputs": [
    {
     "name": "stdout",
     "output_type": "stream",
     "text": [
      "First Second Third\n",
      "            fourth\n",
      "            fifth\n"
     ]
    }
   ],
   "source": [
    "# Python uses Unicode for strings.\n",
    "\n",
    "#String Declaration & Init\n",
    "stringA = 'First'\n",
    "stringB = \"Second\"\n",
    "stringC = '''Third\n",
    "            fourth\n",
    "            fifth''' # Multiline\n",
    "print(stringA,stringB, stringC)\n"
   ]
  },
  {
   "cell_type": "code",
   "execution_count": 32,
   "id": "0981c1d7",
   "metadata": {},
   "outputs": [
    {
     "name": "stdout",
     "output_type": "stream",
     "text": [
      "tsri\n"
     ]
    }
   ],
   "source": [
    "# String as List\n",
    "print(stringA[-1:0:-1])\n",
    "#stringA[-1] = \"O\"   # IMMUTABLE\n",
    "#del stringA[-3]      # IMMUTABLE\n",
    "del stringC"
   ]
  },
  {
   "cell_type": "code",
   "execution_count": 33,
   "id": "fffb9373",
   "metadata": {},
   "outputs": [
    {
     "name": "stdout",
     "output_type": "stream",
     "text": [
      "FirstSecondSecond\n",
      "[]\n",
      "True\n",
      "SECOND second\n",
      "['This', 'is', 'the', 'second', 'word'] This is the second word\n",
      "This is the second word\n",
      "19\n",
      "This is the 2nd word\n"
     ]
    }
   ],
   "source": [
    "# String Ops\n",
    "\n",
    "#Concatenation\n",
    "print(stringA+stringB*2)\n",
    "\n",
    "#String Iteration\n",
    "print(j:= [i for i in stringA if i=='a'])\n",
    "\n",
    "#Membership Operation\n",
    "print('o' in stringB)\n",
    "\n",
    "#LowerCase & UpperCase\n",
    "print(stringB.upper(), stringB.lower())\n",
    "\n",
    "# Split words into list\n",
    "stringB = \"This is the second word\"\n",
    "print(stringB.split(), stringB)  #Output without changing variable\n",
    "\n",
    "# Join list of strings with delimiter\n",
    "print(' '.join(stringB.split())) #Output\n",
    "\n",
    "# Searching string in string\n",
    "print(stringB.find('word'))\n",
    "\n",
    "# Replace part of string\n",
    "print(stringB.replace('second', '2nd')) # All are outputs as strings are immutable"
   ]
  },
  {
   "cell_type": "code",
   "execution_count": 37,
   "id": "6a553e66",
   "metadata": {},
   "outputs": [
    {
     "name": "stdout",
     "output_type": "stream",
     "text": [
      "First ['t', 's', 'r', 'i', 'F'] string A is not palindrome\n",
      "<class 'reversed'>\n"
     ]
    }
   ],
   "source": [
    "# String Methods\n",
    "stringB = list(reversed(stringA))\n",
    "print(type(reversed(stringA)))  # Separate Class for reversed. needs to be typecasted.\n",
    "\n"
   ]
  }
 ],
 "metadata": {
  "kernelspec": {
   "display_name": "Python 3 (ipykernel)",
   "language": "python",
   "name": "python3"
  },
  "language_info": {
   "codemirror_mode": {
    "name": "ipython",
    "version": 3
   },
   "file_extension": ".py",
   "mimetype": "text/x-python",
   "name": "python",
   "nbconvert_exporter": "python",
   "pygments_lexer": "ipython3",
   "version": "3.10.6"
  }
 },
 "nbformat": 4,
 "nbformat_minor": 5
}
