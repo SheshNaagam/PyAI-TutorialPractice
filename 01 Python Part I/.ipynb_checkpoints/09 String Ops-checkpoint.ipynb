{
 "cells": [
  {
   "cell_type": "code",
   "execution_count": 1,
   "id": "90f5c726",
   "metadata": {},
   "outputs": [
    {
     "name": "stdout",
     "output_type": "stream",
     "text": [
      "First Second Third\n",
      "            fourth\n",
      "            fifth\n"
     ]
    }
   ],
   "source": [
    "# Python uses Unicode for strings.\n",
    "\n",
    "#String Declaration & Init\n",
    "stringA = 'First'\n",
    "stringB = \"Second\"\n",
    "stringC = '''Third\n",
    "            fourth\n",
    "            fifth''' # Multiline\n",
    "print(stringA,stringB, stringC)\n"
   ]
  },
  {
   "cell_type": "code",
   "execution_count": 8,
   "id": "9f52b5fe",
   "metadata": {},
   "outputs": [
    {
     "name": "stdout",
     "output_type": "stream",
     "text": [
      "tsri\n"
     ]
    }
   ],
   "source": [
    "# String as List\n",
    "print(stringA[-1:0:-1])\n",
    "#stringA[-1] = \"O\"   # IMMUTABLE\n",
    "#del stringA[-3]      # IMMUTABLE\n",
    "del stringC"
   ]
  },
  {
   "cell_type": "code",
   "execution_count": 19,
   "id": "80c5f17a",
   "metadata": {},
   "outputs": [
    {
     "name": "stdout",
     "output_type": "stream",
     "text": [
      "FirstThis is the second wordThis is the second word\n",
      "[]\n",
      "True\n",
      "THIS IS THE SECOND WORD this is the second word\n",
      "['This', 'is', 'the', 'second', 'word'] This is the second word\n",
      "This is the second word\n",
      "19\n"
     ]
    }
   ],
   "source": [
    "# String Ops\n",
    "\n",
    "#Concatenation\n",
    "print(stringA+stringB*2)\n",
    "\n",
    "#String Iteration\n",
    "print(j:= [i for i in stringA if i=='a'])\n",
    "\n",
    "#Membership Operation\n",
    "print('o' in stringB)\n",
    "\n",
    "#LowerCase & UpperCase\n",
    "print(stringB.upper(), stringB.lower())\n",
    "\n",
    "# Split words into list\n",
    "stringB = \"This is the second word\"\n",
    "print(stringB.split(), stringB)  #Output without changing variable\n",
    "\n",
    "# Join list of strings with delimiter\n",
    "print(' '.join(stringB.split())) #Output\n",
    "\n",
    "# Searching string in string\n",
    "print(stringB.find('word'))"
   ]
  }
 ],
 "metadata": {
  "kernelspec": {
   "display_name": "Python 3 (ipykernel)",
   "language": "python",
   "name": "python3"
  },
  "language_info": {
   "codemirror_mode": {
    "name": "ipython",
    "version": 3
   },
   "file_extension": ".py",
   "mimetype": "text/x-python",
   "name": "python",
   "nbconvert_exporter": "python",
   "pygments_lexer": "ipython3",
   "version": "3.10.6"
  }
 },
 "nbformat": 4,
 "nbformat_minor": 5
}
