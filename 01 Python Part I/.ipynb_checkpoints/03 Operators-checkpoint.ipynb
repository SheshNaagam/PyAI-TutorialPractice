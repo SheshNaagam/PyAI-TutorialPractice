{
 "cells": [
  {
   "cell_type": "code",
   "execution_count": 11,
   "id": "6a57cd3d",
   "metadata": {},
   "outputs": [
    {
     "name": "stdout",
     "output_type": "stream",
     "text": [
      "Addition: \t\t10 + 40\t:\t50\n",
      "Subtraction: \t\t40 - 10\t:\t30\n",
      "Multiplication: \t10 * 40\t:\t400\n",
      "Division: \t\t40 / 10\t:\t4.0\n"
     ]
    }
   ],
   "source": [
    "# Basic Operations\n",
    "a, b = 10, 40\n",
    "print(\"Addition: \\t\\t10 + 40\\t:\\t\" + str((a + b)) + \\\n",
    "     \"\\nSubtraction: \\t\\t40 - 10\\t:\\t\" + str((b-a)) + \\\n",
    "     \"\\nMultiplication: \\t10 * 40\\t:\\t\" + str((a*b)) + \\\n",
    "     \"\\nDivision: \\t\\t40 / 10\\t:\\t\" + str((b/a)))"
   ]
  },
  {
   "cell_type": "code",
   "execution_count": 20,
   "id": "4906b8e2",
   "metadata": {},
   "outputs": [
    {
     "name": "stdout",
     "output_type": "stream",
     "text": [
      "Remainder of 40 / 10 \t:\t0\n",
      "Floor of 13 / 2 \t:\t6\n",
      "2 ^ 59 \t\t\t:\t576460752303423488\n"
     ]
    }
   ],
   "source": [
    "# More Basic Operations: Modulus (%), Floor Division (//), Exponential (**)\n",
    "\n",
    "print(\"Remainder of 40 / 10 \\t:\\t\" + str((40%10)) + \\\n",
    "     \"\\nFloor of 13 / 2 \\t:\\t\" + str((13//2)) + \\\n",
    "     \"\\n2 ^ 59 \\t\\t\\t:\\t\" + str((2**59)))"
   ]
  },
  {
   "cell_type": "code",
   "execution_count": 29,
   "id": "6321d05a",
   "metadata": {},
   "outputs": [
    {
     "name": "stdout",
     "output_type": "stream",
     "text": [
      "10 Greater than 40? \t\t\tFalse\n",
      "10 Less than 40? \t\t\tTrue\n",
      "10 Equal to 10? \t\t\tTrue\n",
      "10 NOT Equal to 10? \t\t\tFalse\n",
      "40 Greater than or Equal to 10? \tTrue\n",
      "40 Less than or Equal to 10? \t\tFalse\n"
     ]
    }
   ],
   "source": [
    "# Comparison Operators: > < == != >= <=\n",
    "print(\"10 Greater than 40? \\t\\t\\t\" + str(a>b) + \\\n",
    "     \"\\n10 Less than 40? \\t\\t\\t\" + str(a<b) + \\\n",
    "     \"\\n10 Equal to 10? \\t\\t\\t\" + str(a==10) + \\\n",
    "     \"\\n10 NOT Equal to 10? \\t\\t\\t\" + str(10!=a) + \\\n",
    "     \"\\n40 Greater than or Equal to 10? \\t\" + str(b>=a) + \\\n",
    "     \"\\n40 Less than or Equal to 10? \\t\\t\" + str(b<a))"
   ]
  },
  {
   "cell_type": "code",
   "execution_count": 37,
   "id": "cbe1048b",
   "metadata": {},
   "outputs": [
    {
     "name": "stdout",
     "output_type": "stream",
     "text": [
      "1\tAND\t0\t0\n",
      "1\tOR\t0\t1\n",
      "1\tNOT\t\tFalse\n"
     ]
    }
   ],
   "source": [
    "# Logical Operators: and, or, not\n",
    "\n",
    "a,b = 1,0\n",
    "print(\"1\\tAND\\t0\\t\" + str(a and b) + \\\n",
    "     \"\\n1\\tOR\\t0\\t\" + str(a or b) + \\\n",
    "     \"\\n1\\tNOT\\t\\t\" + str(not a))"
   ]
  },
  {
   "cell_type": "code",
   "execution_count": 52,
   "id": "6ef4cbb6",
   "metadata": {},
   "outputs": [
    {
     "name": "stdout",
     "output_type": "stream",
     "text": [
      "0\n",
      "1\n",
      "0\n",
      "2\n",
      "0\n"
     ]
    }
   ],
   "source": [
    "# Bitwise Operators: & | ^ << >>\n",
    "# Operations on Binary Equivalent of Integers\n",
    "print(str(a & b) + \"\\n\" + \\\n",
    "     str(a | b) + \"\\n\" + \\\n",
    "     str(a^a) + \"\\n\" + \\\n",
    "     str(a<<a) + \"\\n\" + \\\n",
    "     str(a>>a))"
   ]
  },
  {
   "cell_type": "code",
   "execution_count": 59,
   "id": "9165022b",
   "metadata": {},
   "outputs": [
    {
     "ename": "SyntaxError",
     "evalue": "invalid syntax (2642106571.py, line 3)",
     "output_type": "error",
     "traceback": [
      "\u001b[0;36m  File \u001b[0;32m\"/tmp/ipykernel_252845/2642106571.py\"\u001b[0;36m, line \u001b[0;32m3\u001b[0m\n\u001b[0;31m    print(str(int(a+=1)) + \"\\n\" + \\\u001b[0m\n\u001b[0m                   ^\u001b[0m\n\u001b[0;31mSyntaxError\u001b[0m\u001b[0;31m:\u001b[0m invalid syntax\n"
     ]
    }
   ],
   "source": [
    "# Assignment Operators: = += -= *= /= %= //= **=\n",
    "a,b = 10, 50\n",
    "print(str(int(a+=1)) + \"\\n\" + \\\n",
    "     str(a-=1))"
   ]
  },
  {
   "cell_type": "code",
   "execution_count": 63,
   "id": "be8f79db",
   "metadata": {},
   "outputs": [
    {
     "name": "stdout",
     "output_type": "stream",
     "text": [
      "False\n",
      "True\n",
      "False\n",
      "False\n"
     ]
    }
   ],
   "source": [
    "# Identity Operator: is, is not\n",
    "print(a is b)\n",
    "print(a is not b)\n",
    "\n",
    "listA = [1, 20, 30]\n",
    "listB = [1, 20, 30]\n",
    "print(listA is listB) # Complex Data Types are Stored in a Different Way.\n",
    "\n",
    "dictA = {1:\"one\", 2:\"four\", 5:\"nine\"}\n",
    "print(\"nine\" in dictA) # Only Keys are Searchable with The Operator."
   ]
  },
  {
   "cell_type": "code",
   "execution_count": null,
   "id": "ef26b9c1",
   "metadata": {},
   "outputs": [],
   "source": []
  }
 ],
 "metadata": {
  "kernelspec": {
   "display_name": "Python 3 (ipykernel)",
   "language": "python",
   "name": "python3"
  },
  "language_info": {
   "codemirror_mode": {
    "name": "ipython",
    "version": 3
   },
   "file_extension": ".py",
   "mimetype": "text/x-python",
   "name": "python",
   "nbconvert_exporter": "python",
   "pygments_lexer": "ipython3",
   "version": "3.10.5"
  }
 },
 "nbformat": 4,
 "nbformat_minor": 5
}
