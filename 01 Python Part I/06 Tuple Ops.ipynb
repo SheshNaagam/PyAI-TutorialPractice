{
 "cells": [
  {
   "cell_type": "code",
   "execution_count": 2,
   "id": "49f839de",
   "metadata": {},
   "outputs": [
    {
     "name": "stdout",
     "output_type": "stream",
     "text": [
      "<class 'tuple'>\n",
      "<class 'str'>\n",
      "<class 'tuple'>\n",
      "<class 'tuple'>\n"
     ]
    }
   ],
   "source": [
    "# Tuples are immutable list containing elements in parantheses ()\n",
    "\n",
    "tupleA = ()\n",
    "print(type(tupleA))\n",
    "\n",
    "tupleA = ('just a string') # No Comma = element, with comma = tuple\n",
    "print(type(tupleA))\n",
    "\n",
    "tupleA = ('just a string',)\n",
    "print(type(tupleA))\n",
    "\n",
    "tupleA = 'just a string', # Even without parantheses, it will be tuple because of comma\n",
    "print(type(tupleA))"
   ]
  },
  {
   "cell_type": "code",
   "execution_count": 4,
   "id": "639b0d2c",
   "metadata": {},
   "outputs": [
    {
     "name": "stdout",
     "output_type": "stream",
     "text": [
      "just a string\n",
      "just a string\n"
     ]
    }
   ],
   "source": [
    "# Accessing Tuple Elements\n",
    "\n",
    "print(tupleA[0]) # Similar to lists\n",
    "print(tupleA[-1])\n"
   ]
  },
  {
   "cell_type": "code",
   "execution_count": 5,
   "id": "7c44bb31",
   "metadata": {},
   "outputs": [
    {
     "name": "stdout",
     "output_type": "stream",
     "text": [
      "('just a string',)\n",
      "(('just a string',), '1,2,3,4,5', [1, 2, 3, 4, 5], {'key': 'value'})\n",
      "3\n"
     ]
    }
   ],
   "source": [
    "# Nested Tuple\n",
    "\n",
    "tupleB = (tupleA, \"1,2,3,4,5\", [1,2,3,4,5], {\"key\":'value'})\n",
    "print(tupleA)\n",
    "print(tupleB)\n",
    "\n",
    "print(tupleB[2][2])"
   ]
  },
  {
   "cell_type": "code",
   "execution_count": 6,
   "id": "c2502916",
   "metadata": {},
   "outputs": [
    {
     "name": "stdout",
     "output_type": "stream",
     "text": [
      "(('just a string',), '1,2,3,4,5', [1, 2, 3, 4, 5], {'key': 'value'})\n",
      "(('just a string',), '1,2,3,4,5', [1, 2, 3, 4, 5], {'key': 'value'})\n",
      "({'key': 'value'}, [1, 2, 3, 4, 5], '1,2,3,4,5')\n"
     ]
    }
   ],
   "source": [
    "# Slicing in Tuples Similar to Lists\n",
    "\n",
    "print(tupleB[:])\n",
    "print(tupleB[0:4])\n",
    "print(tupleB[-1:0:-1])"
   ]
  },
  {
   "cell_type": "code",
   "execution_count": 7,
   "id": "b1bca018",
   "metadata": {},
   "outputs": [
    {
     "name": "stdout",
     "output_type": "stream",
     "text": [
      "(('just a string',), '1,2,3,4,5', [1, 2, 3, 4, 5], {'key': 'value'})\n",
      "(('just a string',), '1,2,3,4,5', [1, 2, {'mykey': 5}, 4, 5], {'key': 'value'})\n"
     ]
    }
   ],
   "source": [
    "# Immutability Complexity\n",
    "\n",
    "print(tupleB) # tuple[0] = something => IMMUTABLE, hence, type error. BUT,\n",
    "\n",
    "tupleB[2][2] = {'mykey':5}\n",
    "\n",
    "print(tupleB) # MUTATED Tuple's list. Indirectly Mutated Tuple"
   ]
  },
  {
   "cell_type": "code",
   "execution_count": 8,
   "id": "26c56dae",
   "metadata": {},
   "outputs": [
    {
     "name": "stdout",
     "output_type": "stream",
     "text": [
      "('just a string', ('just a string',), '1,2,3,4,5', [1, 2, {'mykey': 5}, 4, 5], {'key': 'value'})\n"
     ]
    }
   ],
   "source": [
    "# Concatenation\n",
    "\n",
    "print(tupleA + tupleB) # adds as elements, not as class types"
   ]
  },
  {
   "cell_type": "code",
   "execution_count": 10,
   "id": "e5a7cb06",
   "metadata": {},
   "outputs": [
    {
     "name": "stdout",
     "output_type": "stream",
     "text": [
      "('just a string', 'just a string', 'just a string', 'just a string')\n"
     ]
    }
   ],
   "source": [
    "# Repetition\n",
    "\n",
    "tupleC = tupleA * 4 # again will add multiple times as an element and not Class type.\n",
    "\n",
    "print(tupleC)"
   ]
  },
  {
   "cell_type": "code",
   "execution_count": 11,
   "id": "a0ef64fe",
   "metadata": {},
   "outputs": [
    {
     "ename": "NameError",
     "evalue": "name 'tupleC' is not defined",
     "output_type": "error",
     "traceback": [
      "\u001b[0;31m---------------------------------------------------------------------------\u001b[0m",
      "\u001b[0;31mNameError\u001b[0m                                 Traceback (most recent call last)",
      "\u001b[0;32m/tmp/ipykernel_362727/295532737.py\u001b[0m in \u001b[0;36m<module>\u001b[0;34m\u001b[0m\n\u001b[1;32m      5\u001b[0m \u001b[0;32mdel\u001b[0m \u001b[0mtupleC\u001b[0m  \u001b[0;31m# Deletion as a whole tuple is possible.\u001b[0m\u001b[0;34m\u001b[0m\u001b[0;34m\u001b[0m\u001b[0m\n\u001b[1;32m      6\u001b[0m \u001b[0;34m\u001b[0m\u001b[0m\n\u001b[0;32m----> 7\u001b[0;31m \u001b[0mprint\u001b[0m\u001b[0;34m(\u001b[0m\u001b[0mtupleC\u001b[0m\u001b[0;34m)\u001b[0m \u001b[0;31m# Name Error, tupleC does not exist.\u001b[0m\u001b[0;34m\u001b[0m\u001b[0;34m\u001b[0m\u001b[0m\n\u001b[0m",
      "\u001b[0;31mNameError\u001b[0m: name 'tupleC' is not defined"
     ]
    }
   ],
   "source": [
    "# Tuple Deletion\n",
    "\n",
    "# del tupleC[0] => ERROR\n",
    "\n",
    "del tupleC  # Deletion as a whole tuple is possible.\n",
    "\n",
    "print(tupleC) # Name Error, tupleC does not exist."
   ]
  },
  {
   "cell_type": "code",
   "execution_count": 18,
   "id": "aed23819",
   "metadata": {},
   "outputs": [
    {
     "data": {
      "text/plain": [
       "1"
      ]
     },
     "execution_count": 18,
     "metadata": {},
     "output_type": "execute_result"
    }
   ],
   "source": [
    "# Counting Element Occurance similar to List\n",
    "\n",
    "tupleA.count('just a string')"
   ]
  },
  {
   "cell_type": "code",
   "execution_count": 20,
   "id": "4fd7f88a",
   "metadata": {},
   "outputs": [
    {
     "data": {
      "text/plain": [
       "1"
      ]
     },
     "execution_count": 20,
     "metadata": {},
     "output_type": "execute_result"
    }
   ],
   "source": [
    "# Tuple Index function\n",
    "tupleB.index('1,2,3,4,5') # returns index of the first occurance of given element"
   ]
  },
  {
   "cell_type": "code",
   "execution_count": 23,
   "id": "79e0b9da",
   "metadata": {},
   "outputs": [
    {
     "name": "stdout",
     "output_type": "stream",
     "text": [
      "True\n",
      "True\n"
     ]
    }
   ],
   "source": [
    "# Tuple Membership\n",
    "\n",
    "print(tupleA in tupleB)\n",
    "\n",
    "print([1,2,3,4,5] not in tupleB)"
   ]
  },
  {
   "cell_type": "code",
   "execution_count": 28,
   "id": "0bb694ba",
   "metadata": {},
   "outputs": [
    {
     "name": "stdout",
     "output_type": "stream",
     "text": [
      "4\n"
     ]
    },
    {
     "ename": "TypeError",
     "evalue": "'>' not supported between instances of 'str' and 'tuple'",
     "output_type": "error",
     "traceback": [
      "\u001b[0;31m---------------------------------------------------------------------------\u001b[0m",
      "\u001b[0;31mTypeError\u001b[0m                                 Traceback (most recent call last)",
      "\u001b[0;32m/tmp/ipykernel_467052/2176994120.py\u001b[0m in \u001b[0;36m<module>\u001b[0;34m\u001b[0m\n\u001b[1;32m      7\u001b[0m \u001b[0;31m# print(tupleA.sort())  Tuple has no sort() function\u001b[0m\u001b[0;34m\u001b[0m\u001b[0;34m\u001b[0m\u001b[0m\n\u001b[1;32m      8\u001b[0m \u001b[0;34m\u001b[0m\u001b[0m\n\u001b[0;32m----> 9\u001b[0;31m \u001b[0mprint\u001b[0m\u001b[0;34m(\u001b[0m\u001b[0mmax\u001b[0m\u001b[0;34m(\u001b[0m\u001b[0mtupleB\u001b[0m\u001b[0;34m)\u001b[0m\u001b[0;34m,\u001b[0m \u001b[0mmin\u001b[0m\u001b[0;34m(\u001b[0m\u001b[0mtupleB\u001b[0m\u001b[0;34m)\u001b[0m\u001b[0;34m)\u001b[0m\u001b[0;34m\u001b[0m\u001b[0;34m\u001b[0m\u001b[0m\n\u001b[0m",
      "\u001b[0;31mTypeError\u001b[0m: '>' not supported between instances of 'str' and 'tuple'"
     ]
    }
   ],
   "source": [
    "# Other Functions\n",
    "\n",
    "print(len(tupleB))\n",
    "\n",
    "# print(sorted(tupleB)) IMMUTABLE Hence Error\n",
    "\n",
    "# print(tupleA.sort())  Tuple has no sort() function\n",
    "\n",
    "print(max(tupleB), min(tupleB))"
   ]
  }
 ],
 "metadata": {
  "kernelspec": {
   "display_name": "Python 3 (ipykernel)",
   "language": "python",
   "name": "python3"
  },
  "language_info": {
   "codemirror_mode": {
    "name": "ipython",
    "version": 3
   },
   "file_extension": ".py",
   "mimetype": "text/x-python",
   "name": "python",
   "nbconvert_exporter": "python",
   "pygments_lexer": "ipython3",
   "version": "3.10.6"
  }
 },
 "nbformat": 4,
 "nbformat_minor": 5
}
