{
 "cells": [
  {
   "cell_type": "code",
   "execution_count": 17,
   "id": "4438546c",
   "metadata": {},
   "outputs": [
    {
     "name": "stdout",
     "output_type": "stream",
     "text": [
      "<class 'dict'>\n",
      "{}\n",
      "<class 'set'>\n",
      "<class 'dict'>\n",
      "[('Name', 'Rahul'), ('Age', 21), ('Key', ['Value1', 'Value2', 'Value3'])]\n",
      "{'Name': 'Rahul', 'Age': 21, 'Key': ['Value1', 'Value2', 'Value3']}\n"
     ]
    }
   ],
   "source": [
    "# Hashtables or Dictionaries in Python\n",
    "# Unordered Collection. Hence, un-indexed\n",
    "# Table-like structure\n",
    "# Highly Applicable in Many Fields. Searches Faster than any previous structure for being un-indexed.\n",
    "\n",
    "dictA = {}\n",
    "print(type(dictA))\n",
    "print(dictA:={}) # Empty Dict\n",
    "\n",
    "dictA = {1,2,3,4} # Wrong way to init Dict\n",
    "print(type(dictA))\n",
    "\n",
    "dictA = {'Name':'Rahul', 'Age':21, 'Key': ['Value1','Value2','Value3']}\n",
    "print(type(dictA))\n",
    "\n",
    "# Create Dictionary out of List of Tuples.\n",
    "list_A_of_Tuples = [('Name','Rahul'), ('Age',21), ('Key', ['Value1', 'Value2', 'Value3'])]\n",
    "print(list_A_of_Tuples)\n",
    "\n",
    "dictA = dict(list_A_of_Tuples)\n",
    "print(dictA)"
   ]
  },
  {
   "cell_type": "code",
   "execution_count": 18,
   "id": "5e73cc80",
   "metadata": {},
   "outputs": [
    {
     "name": "stdout",
     "output_type": "stream",
     "text": [
      "{'Name': 'Rahul', 'Age': 21, 'Key': ['Value1', 'Value2', 'Value3']} \n",
      "\n",
      "Age:  21\n",
      "Age:  21\n",
      "None\n"
     ]
    }
   ],
   "source": [
    "# Accessing Dictionary Elements\n",
    "\n",
    "print(dictA, \"\\n\")\n",
    "\n",
    "print(\"Age: \", dictA['Age'])     # Method 1\n",
    "print(\"Age: \", dictA.get('Age')) # Method 2\n",
    "\n",
    "# Difference between Method 1 and Method 2:\n",
    "\n",
    "# print(dictA['Address'])   ## Error, key does not exist\n",
    "print(dictA.get('Address')) ## No Error, Returns NONE"
   ]
  },
  {
   "cell_type": "code",
   "execution_count": 19,
   "id": "776e11ef",
   "metadata": {},
   "outputs": [
    {
     "name": "stdout",
     "output_type": "stream",
     "text": [
      "{'Name': 'Rahul', 'Age': 21, 'Key': ['Value1', 'Value2', 'Value3']}\n",
      "{'Name': 'Ajay', 'Age': 21, 'Key': ['Value1', 'Value2', 'Value3']}\n",
      "{'Name': 'Ajay', 'Age': 21, 'Key': ['Value1', 'Value2', 'Value3'], 'Address': 'Kholi no. 420, lokhandwala complex'}\n",
      "{'Name': 'Ajay', 'Age': 21, 'Key': ['Value1', 'Value2', 'Value3']}\n",
      "{'Name': 'Ajay', 'Age': 21}\n",
      "{'Name': 'Ajay'}\n",
      "{}\n"
     ]
    }
   ],
   "source": [
    "# Mutating Dictionary (adding removing)\n",
    "\n",
    "print(dictA)\n",
    "\n",
    "# Updating Key's Value\n",
    "dictA['Name'] = 'Ajay'\n",
    "print(dictA)\n",
    "\n",
    "# Adding Key-value pair\n",
    "dictA['Address'] = 'Kholi no. 420, lokhandwala complex'\n",
    "print(dictA)\n",
    "\n",
    "# Removing Key-value pairs\n",
    "dictA.pop('Address')   ## Removes both Key & Value and pops Value. Takes key as argument.\n",
    "print(dictA)\n",
    "\n",
    "dictA.popitem()     ## Removes key-value pair on random (they are unindexed. usually removes last key-value pair).\n",
    "print(dictA)        ## popitem takes no arguments.\n",
    "\n",
    "del dictA['Age']    ## Removes key-value pair using key.\n",
    "print(dictA)\n",
    "\n",
    "dictA.clear()       ## Empty the Dictionary\n",
    "print(dictA)        ## Still Dictionary exists.\n",
    "\n",
    "del dictA           ## Delete the entire dictionary\n",
    "# print(dictA)      ## Cannot Find Dictionary. Does not exist."
   ]
  },
  {
   "cell_type": "code",
   "execution_count": 39,
   "id": "1cb8212e",
   "metadata": {},
   "outputs": [
    {
     "name": "stdout",
     "output_type": "stream",
     "text": [
      "Cubes :  {1: 1, 2: 8, 3: 27, 4: 64, 5: 125, 6: 216, 7: 343, 8: 512, 9: 729}\n",
      "139800312188288\n",
      "139800312041792\n",
      "\n",
      "\n",
      " {1: 'same_value', 2: 'same_value', 3: 'same_value', 4: 'same_value', 5: 'same_value'}\n",
      "\n",
      "\n",
      " dict_items([(1, 'same_value'), (2, 'same_value'), (3, 'same_value'), (4, 'same_value'), (5, 'same_value')])\n",
      "\n",
      "\n",
      " dict_keys([1, 2, 3, 4, 5])\n",
      "\n",
      "\n",
      " dict_values(['same_value', 'same_value', 'same_value', 'same_value', 'same_value'])\n",
      "\n",
      "\n",
      " ['__class__', '__class_getitem__', '__contains__', '__delattr__', '__delitem__', '__dir__', '__doc__', '__eq__', '__format__', '__ge__', '__getattribute__', '__getitem__', '__gt__', '__hash__', '__init__', '__init_subclass__', '__ior__', '__iter__', '__le__', '__len__', '__lt__', '__ne__', '__new__', '__or__', '__reduce__', '__reduce_ex__', '__repr__', '__reversed__', '__ror__', '__setattr__', '__setitem__', '__sizeof__', '__str__', '__subclasshook__', 'clear', 'copy', 'fromkeys', 'get', 'items', 'keys', 'pop', 'popitem', 'setdefault', 'update', 'values']\n"
     ]
    }
   ],
   "source": [
    "# Dictionary Methods / Functions\n",
    "\n",
    "# copy()\n",
    "dictA = {1:1,2:8,3:27,4:64,5:125,6:216,7:343,8:512,9:729}\n",
    "print(\"Cubes : \",dictB := dictA.copy()) ## DictB copied\n",
    "print(id(dictA))\n",
    "print(id(dictB))    ## Deep Copy\n",
    "\n",
    "# fromkeys(): Derive Keys from List with same value\n",
    "dictB = {}.fromkeys(listA:=[1,2,3,4,5], 'same_value') # argument as list\n",
    "print(\"\\n\\n\", dictB)\n",
    "\n",
    "# items() Output Converted Dictionary: outputs a dictionary converted into a list of tuples. a new view of same dict.\n",
    "print(\"\\n\\n\", dictB.items()) # produces a new type dict_items class output. Gives list of tuples.\n",
    "                            # Application: Allows iteration of dictionary as a list.\n",
    "\n",
    "# keys() output keys from dictionary as list\n",
    "print(\"\\n\\n\", dictB.keys())\n",
    "\n",
    "# values() output values from dictionary as list\n",
    "print(\"\\n\\n\", dictB.values())\n",
    "\n",
    "# print all available methods and attributes of the specified dictionary as list.\n",
    "print(\"\\n\\n\", dir(dictB))"
   ]
  },
  {
   "cell_type": "code",
   "execution_count": 41,
   "id": "0fa86657",
   "metadata": {},
   "outputs": [
    {
     "name": "stdout",
     "output_type": "stream",
     "text": [
      "{2: 8, 4: 64, 6: 216, 8: 512}\n",
      "\n",
      "\n",
      " [(0, 0), (1, 1), (2, 4), (3, 9), (4, 16), (5, 25), (6, 36), (7, 49), (8, 64), (9, 81), (10, 100), (11, 121), (12, 144), (13, 169), (14, 196), (15, 225), (16, 256), (17, 289), (18, 324), (19, 361)]\n",
      "\n",
      "'\n",
      " {0: 0, 2: 8, 4: 64, 6: 216, 8: 512, 10: 1000, 12: 1728, 14: 2744, 16: 4096, 18: 5832}\n"
     ]
    }
   ],
   "source": [
    "# Dictionary Comprehension\n",
    "\n",
    "# dictB = {K:V for k,v in dictA if k%2==0} # Non-Iterable. Unlike Lists, it needs iterable structure. hence, items()\n",
    "dictB = {K:V for K,V in dictA.items() if K%2==0}\n",
    "print(dictB) # Cubes of Even Numbers\n",
    "\n",
    "\n",
    "# Complex Comprehension Example\n",
    "\n",
    "listA = [] # List of tuples containing Squares from 0 - 20. Currently Empty.\n",
    "\n",
    "for i in range(20):\n",
    "    tupleA = (i,i*i)\n",
    "    listA.append(tupleA)\n",
    "\n",
    "dictB = {k:v*k for k,v in listA if k%2 == 0}\n",
    "print(\"\\n\\n\", listA)  # list of Squares\n",
    "print(\"\\n'\\n\", dictB) # dict of Cubes of even numbers"
   ]
  }
 ],
 "metadata": {
  "kernelspec": {
   "display_name": "Python 3 (ipykernel)",
   "language": "python",
   "name": "python3"
  },
  "language_info": {
   "codemirror_mode": {
    "name": "ipython",
    "version": 3
   },
   "file_extension": ".py",
   "mimetype": "text/x-python",
   "name": "python",
   "nbconvert_exporter": "python",
   "pygments_lexer": "ipython3",
   "version": "3.10.6"
  }
 },
 "nbformat": 4,
 "nbformat_minor": 5
}
