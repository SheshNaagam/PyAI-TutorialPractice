{
 "cells": [
  {
   "cell_type": "code",
   "execution_count": 5,
   "id": "8b5b65e7",
   "metadata": {},
   "outputs": [
    {
     "name": "stdout",
     "output_type": "stream",
     "text": [
      "<class 'dict'>\n",
      "<class 'set'>\n",
      "<class 'set'>\n",
      "<class 'set'>\n"
     ]
    }
   ],
   "source": [
    "# Sets are unordered collection, hence un-index-able\n",
    "\n",
    "setA = {}\n",
    "print(type(setA)) # wrong way to init empty set, it inits as Dictionary\n",
    "\n",
    "setA = set()\n",
    "print(type(setA)) # Right way to init empty set\n",
    "\n",
    "setA = {1}\n",
    "print(type(setA))\n",
    "\n",
    "setA = {1,2,3,4,5}\n",
    "print(type(setA))"
   ]
  },
  {
   "cell_type": "code",
   "execution_count": 3,
   "id": "4fd7de37",
   "metadata": {},
   "outputs": [
    {
     "name": "stdout",
     "output_type": "stream",
     "text": [
      "{1, 2, 3, 4, 5}\n"
     ]
    }
   ],
   "source": [
    "# Duplicated Elements not considered\n",
    "\n",
    "setA = {1,1,1,1,2,2,2,2,3,3,3,3,3,4,4,4,4,4,5,5,5,5,5}\n",
    "print(setA)"
   ]
  },
  {
   "cell_type": "code",
   "execution_count": 15,
   "id": "ca42c1de",
   "metadata": {},
   "outputs": [
    {
     "name": "stdout",
     "output_type": "stream",
     "text": [
      "{1, 2, 3, 4, 5}\n"
     ]
    }
   ],
   "source": [
    "# Typecasting to Set\n",
    "\n",
    "listA = [1,2,3,4,5]\n",
    "setA = set(listA)\n",
    "print(setA)"
   ]
  },
  {
   "cell_type": "code",
   "execution_count": 16,
   "id": "2270e289",
   "metadata": {},
   "outputs": [
    {
     "name": "stdout",
     "output_type": "stream",
     "text": [
      "{1, 2, 3, 4, 5, 6}\n",
      "{1, 2, 3, 4, 5, 6, 7}\n",
      "{0, 1, 2, 3, 4, 5, 6, 7, 8, 9, 'a', 'b', 'c'}\n"
     ]
    }
   ],
   "source": [
    "# Adding Element to Sets, as they cant be indexed and hence, cant append elements.\n",
    "\n",
    "setA.add(6)\n",
    "print(setA)\n",
    "\n",
    "setA.update([1,2,3,4,5,6,7])\n",
    "print(setA)\n",
    "\n",
    "setA.update([1,2,3,4,5], {6,7,8,9,0}, ('a','b','c')) # added as elements not class type. no repetition.\n",
    "print(setA)"
   ]
  },
  {
   "cell_type": "code",
   "execution_count": 17,
   "id": "a0697d0b",
   "metadata": {},
   "outputs": [
    {
     "name": "stdout",
     "output_type": "stream",
     "text": [
      "{0, 1, 2, 3, 4, 5, 6, 7, 8, 9, 'a', 'b', 'c'}\n",
      "{1, 2, 3, 4, 5, 6, 7, 8, 9, 'a', 'b', 'c'}\n",
      "{2, 3, 4, 5, 6, 7, 8, 9, 'a', 'b', 'c'}\n",
      "set()\n"
     ]
    }
   ],
   "source": [
    "# Removing element from sets\n",
    "\n",
    "print(setA)\n",
    "\n",
    "# setA.remove('d') # does not exist, so produces ERROR\n",
    "setA.discard('d') # does not exist, still does not produce error. appropriate for set Ops.\n",
    "\n",
    "setA.discard(0)\n",
    "print(setA)\n",
    "\n",
    "setA.pop() # Remove element at Random (usually first element but its unordered). cannot pass index as Set is un-indexed data structure.\n",
    "print(setA)\n",
    "\n",
    "setA.clear() # removes all elements, makes set empty\n",
    "print(setA)"
   ]
  },
  {
   "cell_type": "code",
   "execution_count": 18,
   "id": "af574c05",
   "metadata": {},
   "outputs": [
    {
     "name": "stdout",
     "output_type": "stream",
     "text": [
      "{1, 2, 3, 4, 5, 6, 7, 8, 9, 10, 11, 12}\n",
      "{1, 2, 3, 4, 5, 6, 7, 8, 9, 10, 11, 12}\n",
      "{8, 9, 6, 7}\n",
      "{8, 9, 6, 7}\n",
      "{1, 2, 3, 4, 5}\n",
      "{1, 2, 3, 4, 5}\n",
      "{1, 2, 3, 4, 5, 10, 11, 12}\n",
      "{1, 2, 3, 4, 5, 10, 11, 12}\n"
     ]
    }
   ],
   "source": [
    "# Set Operations\n",
    "\n",
    "setA = {1,2,3,4,5,6,7,8,9}\n",
    "setB = {6,7,8,9,10,11,12}\n",
    "\n",
    "# Set Union: Elements From Both Sets without Repetition.\n",
    "print(setA | setB)       # Method 1\n",
    "print(setA.union(setB))  # Method 2\n",
    "\n",
    "# Set Intersection: Elements Commonly Present in Both Sets\n",
    "print(setA & setB)              # Method 1\n",
    "print(setA.intersection(setB))  # Method 2\n",
    "\n",
    "# Set Difference: Remove Elements From SetA that are present in SetB\n",
    "print(setA - setB)              # Method 1\n",
    "print(setA.difference(setB))    # Method 2\n",
    "\n",
    "# Set Symmetric Difference: Complement of Set Intersection. All Elements, without those present in both sets.\n",
    "#                           setA ^ setB = (setA union setB) - (setA intersection setB)\n",
    "print(setA ^ setB)\n",
    "print(setA.symmetric_difference(setB))\n",
    "\n"
   ]
  },
  {
   "cell_type": "code",
   "execution_count": 21,
   "id": "588e67b1",
   "metadata": {},
   "outputs": [
    {
     "name": "stdout",
     "output_type": "stream",
     "text": [
      "True\n",
      "True\n"
     ]
    }
   ],
   "source": [
    "# More Operations\n",
    "\n",
    "setA = {1,2,3,4,5,6,7,8,9}\n",
    "setB = {2,4,6,8}\n",
    "\n",
    "# Subset & Superset\n",
    "\n",
    "print(setB.issubset(setA))\n",
    "print(setA.issuperset(setB))"
   ]
  },
  {
   "cell_type": "code",
   "execution_count": 22,
   "id": "888bd2f2",
   "metadata": {},
   "outputs": [
    {
     "name": "stdout",
     "output_type": "stream",
     "text": [
      "frozenset({1, 2, 3, 4, 5, 6, 7, 8, 9})\n"
     ]
    },
    {
     "ename": "AttributeError",
     "evalue": "'frozenset' object has no attribute 'update'",
     "output_type": "error",
     "traceback": [
      "\u001b[0;31m---------------------------------------------------------------------------\u001b[0m",
      "\u001b[0;31mAttributeError\u001b[0m                            Traceback (most recent call last)",
      "\u001b[0;32m/tmp/ipykernel_486873/2739729145.py\u001b[0m in \u001b[0;36m<module>\u001b[0;34m\u001b[0m\n\u001b[1;32m      5\u001b[0m \u001b[0mprint\u001b[0m\u001b[0;34m(\u001b[0m\u001b[0msetB\u001b[0m\u001b[0;34m)\u001b[0m\u001b[0;34m\u001b[0m\u001b[0;34m\u001b[0m\u001b[0m\n\u001b[1;32m      6\u001b[0m \u001b[0;34m\u001b[0m\u001b[0m\n\u001b[0;32m----> 7\u001b[0;31m \u001b[0msetB\u001b[0m\u001b[0;34m.\u001b[0m\u001b[0mupdate\u001b[0m\u001b[0;34m(\u001b[0m\u001b[0;34m[\u001b[0m\u001b[0;36m1\u001b[0m\u001b[0;34m,\u001b[0m\u001b[0;36m2\u001b[0m\u001b[0;34m,\u001b[0m\u001b[0;36m3\u001b[0m\u001b[0;34m,\u001b[0m\u001b[0;36m33\u001b[0m\u001b[0;34m]\u001b[0m\u001b[0;34m)\u001b[0m\u001b[0;34m\u001b[0m\u001b[0;34m\u001b[0m\u001b[0m\n\u001b[0m\u001b[1;32m      8\u001b[0m \u001b[0mprint\u001b[0m\u001b[0;34m(\u001b[0m\u001b[0msetB\u001b[0m\u001b[0;34m)\u001b[0m\u001b[0;34m\u001b[0m\u001b[0;34m\u001b[0m\u001b[0m\n",
      "\u001b[0;31mAttributeError\u001b[0m: 'frozenset' object has no attribute 'update'"
     ]
    }
   ],
   "source": [
    "# Frozen Sets: Sets that are immutable like lists.\n",
    "#              Application: Can be used for 'keys' in Dictionary where normal sets are not allowed.\n",
    "\n",
    "setB = frozenset(setA)\n",
    "print(setB)\n",
    "\n",
    "# setB.update([1,2,3,33]) # Attribute Error, Frozen Set does not have an update function.\n",
    "# print(setB)"
   ]
  }
 ],
 "metadata": {
  "kernelspec": {
   "display_name": "Python 3 (ipykernel)",
   "language": "python",
   "name": "python3"
  },
  "language_info": {
   "codemirror_mode": {
    "name": "ipython",
    "version": 3
   },
   "file_extension": ".py",
   "mimetype": "text/x-python",
   "name": "python",
   "nbconvert_exporter": "python",
   "pygments_lexer": "ipython3",
   "version": "3.10.6"
  }
 },
 "nbformat": 4,
 "nbformat_minor": 5
}
